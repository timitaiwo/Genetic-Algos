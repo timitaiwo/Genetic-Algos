{
 "cells": [
  {
   "cell_type": "markdown",
   "id": "adbc0930-edd0-4a7f-a79a-391d68110bdb",
   "metadata": {},
   "source": [
    "**Exploring an implementation of Genetic Algorithm in python. This script has no greater logic than experimentation**"
   ]
  },
  {
   "cell_type": "markdown",
   "id": "a6aab110-493e-494f-aca7-d27d10dc9e76",
   "metadata": {},
   "source": [
    "**Initialize a Population**"
   ]
  },
  {
   "cell_type": "code",
   "execution_count": 1,
   "id": "45a7191c-a0fd-44d7-a561-2e964cf0a2a9",
   "metadata": {},
   "outputs": [],
   "source": [
    "import random\n",
    "\n",
    "def initialize_population(population_size):\n",
    "    '''Initials a population of a given population size'''\n",
    "    \n",
    "    population = [random_individual() for num in range(population_size)]\n",
    "    \n",
    "    return population\n",
    "\n",
    "def random_individual():\n",
    "    '''Function generates a random binary number of 8 bits'''\n",
    "    \n",
    "    max_val = 255\n",
    "    individual = random.randint(0, 255)\n",
    "    individual = str(bin(individual))[2:]\n",
    "    \n",
    "    diff = 8 - len(individual)\n",
    "    \n",
    "    if diff > 0:\n",
    "        individual = '0'*diff + individual   # Ensure that length is 8 bits\n",
    "    \n",
    "    return individual"
   ]
  },
  {
   "cell_type": "markdown",
   "id": "bd3aec06-d5a7-4af9-a192-e59da2eb683e",
   "metadata": {},
   "source": [
    "**Define Fitness Function and Fitness Criteria**"
   ]
  },
  {
   "cell_type": "code",
   "execution_count": 2,
   "id": "ac5b9572-39a3-40a3-a6e4-4bcad74cdf80",
   "metadata": {},
   "outputs": [],
   "source": [
    "def fitness_function(population):\n",
    "    '''\n",
    "    Generates fitness values for all individuals in a given population\n",
    "    '''\n",
    "    fitness_values = dict()\n",
    "    \n",
    "    for individual in population:\n",
    "        front, back = int(individual[:4], 2), int(individual[4:], 2)\n",
    "        fitness_values[individual] = abs(front - back)\n",
    "    \n",
    "    return fitness_values\n",
    "\n",
    "def probability_selection(fit_values):\n",
    "    '''\n",
    "    Accepts a dictionary of key-value pairs where the keys are the individuals in a population\n",
    "    and the values are the fitness values.\n",
    "    \n",
    "    Returns a dictionary of key-value pairs where the keys are the individuals in a population\n",
    "    and the values are the probability of selection\n",
    "    '''\n",
    "    \n",
    "    tot_fitness = sum(fit_values.values())\n",
    "    prob_selection = dict()\n",
    "    \n",
    "    for key in fit_values:\n",
    "        prob_selection[key] = round(fit_values[key]/tot_fitness, 2)\n",
    "    \n",
    "    return prob_selection"
   ]
  },
  {
   "cell_type": "code",
   "execution_count": 3,
   "id": "d138ef57-53c0-49d6-a1a4-2af5438a107b",
   "metadata": {},
   "outputs": [],
   "source": [
    "pop_size = 10\n",
    "population = initialize_population(pop_size) #Initialise the population\n",
    "fitness_values = fitness_function(population)\n",
    "prob_selection = probability_selection(fitness_values)"
   ]
  },
  {
   "cell_type": "code",
   "execution_count": 4,
   "id": "48a47e3e-cabc-4257-bdbf-ef8affe1acdf",
   "metadata": {},
   "outputs": [
    {
     "data": {
      "text/plain": [
       "['11100110',\n",
       " '01011101',\n",
       " '10011111',\n",
       " '10101001',\n",
       " '00101100',\n",
       " '10100110',\n",
       " '10100011',\n",
       " '01001111',\n",
       " '10011011',\n",
       " '00100111']"
      ]
     },
     "execution_count": 4,
     "metadata": {},
     "output_type": "execute_result"
    }
   ],
   "source": [
    "population"
   ]
  },
  {
   "cell_type": "code",
   "execution_count": 5,
   "id": "c2991330-8e8e-410d-a0f4-2c239a33d40d",
   "metadata": {},
   "outputs": [
    {
     "data": {
      "text/plain": [
       "{'11100110': 8,\n",
       " '01011101': 8,\n",
       " '10011111': 6,\n",
       " '10101001': 1,\n",
       " '00101100': 10,\n",
       " '10100110': 4,\n",
       " '10100011': 7,\n",
       " '01001111': 11,\n",
       " '10011011': 2,\n",
       " '00100111': 5}"
      ]
     },
     "execution_count": 5,
     "metadata": {},
     "output_type": "execute_result"
    }
   ],
   "source": [
    "fitness_values"
   ]
  },
  {
   "cell_type": "code",
   "execution_count": 6,
   "id": "777076d0-93c4-433c-a5bd-cc9f6a661822",
   "metadata": {},
   "outputs": [
    {
     "data": {
      "text/plain": [
       "{'11100110': 0.13,\n",
       " '01011101': 0.13,\n",
       " '10011111': 0.1,\n",
       " '10101001': 0.02,\n",
       " '00101100': 0.16,\n",
       " '10100110': 0.06,\n",
       " '10100011': 0.11,\n",
       " '01001111': 0.18,\n",
       " '10011011': 0.03,\n",
       " '00100111': 0.08}"
      ]
     },
     "execution_count": 6,
     "metadata": {},
     "output_type": "execute_result"
    }
   ],
   "source": [
    "prob_selection"
   ]
  }
 ],
 "metadata": {
  "kernelspec": {
   "display_name": "Python 3.9.12 ('base')",
   "language": "python",
   "name": "python3"
  },
  "language_info": {
   "codemirror_mode": {
    "name": "ipython",
    "version": 3
   },
   "file_extension": ".py",
   "mimetype": "text/x-python",
   "name": "python",
   "nbconvert_exporter": "python",
   "pygments_lexer": "ipython3",
   "version": "3.9.12"
  },
  "vscode": {
   "interpreter": {
    "hash": "a0134e0a78c6f2f96b1be4534b009b1e5319f15c6ab996199e106eafcd47c51f"
   }
  }
 },
 "nbformat": 4,
 "nbformat_minor": 5
}
