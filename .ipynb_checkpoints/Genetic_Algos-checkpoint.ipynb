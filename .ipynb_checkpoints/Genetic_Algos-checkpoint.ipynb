{
 "cells": [
  {
   "cell_type": "markdown",
   "id": "adbc0930-edd0-4a7f-a79a-391d68110bdb",
   "metadata": {},
   "source": [
    "**Exploring an implementation of Genetic Algorithm in python. This script has no greater logic than experimentation**"
   ]
  },
  {
   "cell_type": "markdown",
   "id": "a6aab110-493e-494f-aca7-d27d10dc9e76",
   "metadata": {},
   "source": [
    "**Initialize a Population**"
   ]
  },
  {
   "cell_type": "code",
   "execution_count": 1,
   "id": "45a7191c-a0fd-44d7-a561-2e964cf0a2a9",
   "metadata": {},
   "outputs": [],
   "source": [
    "import random\n",
    "\n",
    "def initialize_population(population_size):\n",
    "    '''Initials a population of a given population size'''\n",
    "    \n",
    "    population = [random_individual() for num in range(population_size)]\n",
    "    \n",
    "    return population\n",
    "\n",
    "def random_individual():\n",
    "    '''Function generates a random binary number of 8 bits'''\n",
    "    \n",
    "    max_val = 255\n",
    "    individual = random.randint(0, 255)\n",
    "    individual = str(bin(individual))[2:]\n",
    "    \n",
    "    diff = 8 - len(individual)\n",
    "    \n",
    "    if diff > 0:\n",
    "        individual = '0'*diff + individual   # Ensure that length is 8 bits\n",
    "    \n",
    "    return individual"
   ]
  },
  {
   "cell_type": "code",
   "execution_count": 5,
   "id": "ac5b9572-39a3-40a3-a6e4-4bcad74cdf80",
   "metadata": {},
   "outputs": [
    {
     "data": {
      "text/plain": [
       "{'11000010': 10,\n",
       " '01001101': 9,\n",
       " '10111111': 4,\n",
       " '10011000': 1,\n",
       " '10111110': 3,\n",
       " '11000000': 12,\n",
       " '00001110': 14,\n",
       " '01100101': 1,\n",
       " '00111110': 11,\n",
       " '01110110': 1}"
      ]
     },
     "execution_count": 5,
     "metadata": {},
     "output_type": "execute_result"
    }
   ],
   "source": [
    "def fitness_function(population):\n",
    "    \n",
    "    fitness_values = dict()\n",
    "    \n",
    "    for individual in population:\n",
    "        front, back = int(individual[:4], 2), int(individual[4:], 2)\n",
    "        fitness_values[individual] = abs(front - back)\n",
    "    \n",
    "    return fitness_values\n",
    "\n",
    "fitness_function(population)"
   ]
  },
  {
   "cell_type": "code",
   "execution_count": 2,
   "id": "d138ef57-53c0-49d6-a1a4-2af5438a107b",
   "metadata": {},
   "outputs": [
    {
     "data": {
      "text/plain": [
       "['11000010',\n",
       " '01001101',\n",
       " '10111111',\n",
       " '10011000',\n",
       " '10111110',\n",
       " '11000000',\n",
       " '00001110',\n",
       " '01100101',\n",
       " '00111110',\n",
       " '01110110']"
      ]
     },
     "execution_count": 2,
     "metadata": {},
     "output_type": "execute_result"
    }
   ],
   "source": [
    "pop_size = 10\n",
    "population = initialize_population(pop_size) #Initialise the population\n",
    "\n",
    "population"
   ]
  },
  {
   "cell_type": "code",
   "execution_count": null,
   "id": "c2991330-8e8e-410d-a0f4-2c239a33d40d",
   "metadata": {},
   "outputs": [],
   "source": []
  }
 ],
 "metadata": {
  "kernelspec": {
   "display_name": "Python 3 (ipykernel)",
   "language": "python",
   "name": "python3"
  },
  "language_info": {
   "codemirror_mode": {
    "name": "ipython",
    "version": 3
   },
   "file_extension": ".py",
   "mimetype": "text/x-python",
   "name": "python",
   "nbconvert_exporter": "python",
   "pygments_lexer": "ipython3",
   "version": "3.9.12"
  }
 },
 "nbformat": 4,
 "nbformat_minor": 5
}
